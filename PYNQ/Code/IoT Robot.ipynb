{
 "cells": [
  {
   "cell_type": "markdown",
   "metadata": {},
   "source": [
    "# Workbook to drive DC motors of a Robot\n",
    "Two DC motors will be connected to the PYNQ via a TI L293 half bridge driver and be controlled via this workbook.\n",
    "\n",
    "Here we load the base overlay and import the necessary libraries"
   ]
  },
  {
   "cell_type": "code",
   "execution_count": 8,
   "metadata": {
    "collapsed": false
   },
   "outputs": [],
   "source": [
    "from pynq import Overlay\n",
    "from pynq.iop import Arduino_IO\n",
    "from pynq.iop import ARDUINO\n",
    "from IPython import display\n",
    "import time\n",
    "from ipywidgets import *\n",
    "\n",
    "Overlay(\"base.bit\").download()"
   ]
  },
  {
   "cell_type": "markdown",
   "metadata": {},
   "source": [
    "Here we set up the motors that will drive the robot via the PYNQ's digital IO pins "
   ]
  },
  {
   "cell_type": "code",
   "execution_count": 9,
   "metadata": {
    "collapsed": false
   },
   "outputs": [],
   "source": [
    "#Motor 1\n",
    "m1_enable = Arduino_IO(ARDUINO, 7, 'out')\n",
    "m1_left = Arduino_IO(ARDUINO, 6, 'out')\n",
    "m1_right = Arduino_IO(ARDUINO, 5, 'out')\n",
    "\n",
    "#Motor 2\n",
    "m2_enable = Arduino_IO(ARDUINO, 8, 'out')\n",
    "m2_left = Arduino_IO(ARDUINO, 9, 'out')\n",
    "m2_right = Arduino_IO(ARDUINO, 10, 'out')\n",
    "\n",
    "\n",
    "#Ultrasonic sensor 1\n",
    "TRIG1 = Arduino_IO(ARDUINO, 3, 'out')\n",
    "#ECHO1 = Arduino_IO(ARDUINO, 4, 'in')"
   ]
  },
  {
   "cell_type": "raw",
   "metadata": {},
   "source": [
    "Here we create the buttons that will control the robot"
   ]
  },
  {
   "cell_type": "code",
   "execution_count": 10,
   "metadata": {
    "collapsed": false
   },
   "outputs": [],
   "source": [
    "fwd_button = widgets.Button(description=\"Forward\")\n",
    "fwd_button.width = \"120px\"\n",
    "fwd_button.background_color = \"#FFFF00\"\n",
    "fwd_button.color = \"#ffffff\"\n",
    "\n",
    "back_button = widgets.Button(description=\"Backward\")\n",
    "back_button.width = \"120px\"\n",
    "back_button.background_color = \"#FFFF00\"\n",
    "back_button.color = \"#ffffff\"\n",
    "\n",
    "left_button = widgets.Button(description=\"Left\")\n",
    "left_button.width = \"120px\"\n",
    "left_button.background_color = \"#FFFF00\"\n",
    "left_button.color = \"#ffffff\"\n",
    "\n",
    "right_button = widgets.Button(description=\"Right\")\n",
    "right_button.width = \"120px\"\n",
    "right_button.background_color = \"#FFFF00\"\n",
    "right_button.color = \"#ffffff\"\n",
    "\n",
    "stop_button = widgets.Button(description=\"Stop\")\n",
    "stop_button.width = \"120px\"\n",
    "stop_button.background_color = \"#FFFF00\"\n",
    "stop_button.color = \"#ffffff\"\n",
    "\n",
    "dummy = widgets.Button(description=\"\")\n",
    "dummy.width = \"120px\"\n",
    "dummy.background_color = \"#FFFF00\"\n",
    "dummy.color = \"#ffffff\""
   ]
  },
  {
   "cell_type": "markdown",
   "metadata": {},
   "source": [
    "Method that returns the distance from the ultrasonic sensor"
   ]
  },
  {
   "cell_type": "code",
   "execution_count": 11,
   "metadata": {
    "collapsed": true
   },
   "outputs": [],
   "source": [
    "def getDistance():\n",
    "    #global pulse_start, pulse_end, pulse_duration\n",
    "    pulse_start = 0\n",
    "    pulse_end = 0\n",
    "    #pulse_duration = 0\n",
    "\n",
    "    distance = 0\n",
    "    TRIG1.write(0)\n",
    "    time.sleep(1)\n",
    "    \n",
    "    \n",
    "    TRIG1.write(1)\n",
    "    time.sleep(0.00001)\n",
    "    TRIG1.write(0)\n",
    "    \n",
    "    while ECHO1.read() == 0:\n",
    "        pulse_start = time.time()\n",
    "\n",
    "    while ECHO1.read() == 1: \n",
    "        pulse_end = time.time()\n",
    "    \n",
    "    try:\n",
    "        pulse_duration = pulse_end - pulse_start\n",
    "        distance = pulse_duration * 17150\n",
    "\n",
    "        distance = round(distance, 2)    \n",
    "    \n",
    "        return distance\n",
    "        \n",
    "    except UnboundLocalError:\n",
    "        print(\"Error\", end = '\\r')\n",
    "        pass\n",
    "    \n",
    "    return -1"
   ]
  },
  {
   "cell_type": "markdown",
   "metadata": {},
   "source": [
    "Here are the functions that the buttons will execute when pressed. Each function sends a signal to the H-bridge and drives the motors in divverent ways (forward, backwards, left, right, stop).\n",
    "Commented code is for ultrasonic sensor"
   ]
  },
  {
   "cell_type": "code",
   "execution_count": 12,
   "metadata": {
    "collapsed": false
   },
   "outputs": [],
   "source": [
    "def motor_fwd(b):\n",
    "    #Check path in front\n",
    "    distanceAhead = 11\n",
    "    #distanceAhead = getDistance()\n",
    "    print(\"Distance Ahead\", distanceAhead, \"cm\")\n",
    "\n",
    "    if distanceAhead < 0 or distanceAhead > 500:\n",
    "        print(\"Sensor Malfunction - Sensor Reading:\", distanceAhead, \"cm\")\n",
    "    elif distanceAhead < 10:\n",
    "        print(\"Path obstructed, object\", distanceAhead, \"cm away\")\n",
    "    else:\n",
    "        print(\"Path clear, going forward\")\n",
    "        m1_enable.write(1) #enable\n",
    "        m1_left.write(0)\n",
    "        m1_right.write(1)\n",
    "\n",
    "        m2_enable.write(1) #enable\n",
    "        m2_left.write(0)\n",
    "        m2_right.write(1)\n",
    "\n",
    "def motor_back(b):    \n",
    "    m1_enable.write(1) #enable\n",
    "    m1_left.write(1)\n",
    "    m1_right.write(0)\n",
    "\n",
    "    m2_enable.write(1) #enable\n",
    "    m2_left.write(1)\n",
    "    m2_right.write(0)\n",
    "    print(\"Reversing\")\n",
    "\n",
    "def motor_left(b):\n",
    "    m1_enable.write(1) #enable\n",
    "    m1_left.write(0)\n",
    "    m1_right.write(1)\n",
    "\n",
    "    m2_enable.write(1) #enable\n",
    "    m2_left.write(1)\n",
    "    m2_right.write(0)\n",
    "    print(\"Going Left\")\n",
    "    \n",
    "def motor_right(b):\n",
    "    m1_enable.write(1) #enable\n",
    "    m1_left.write(1)\n",
    "    m1_right.write(0)\n",
    "\n",
    "    m2_enable.write(1) #enable\n",
    "    m2_left.write(0)\n",
    "    m2_right.write(1)\n",
    "    print(\"Going Right\")\n",
    "    \n",
    "def motor_stop(b):\n",
    "    m1_enable.write(0) #enable\n",
    "    m2_enable.write(0) #enable\n",
    "    print(\"Stopping\")"
   ]
  },
  {
   "cell_type": "markdown",
   "metadata": {},
   "source": [
    "Map buttons to functions - When a click event occurs, the desired function is executed."
   ]
  },
  {
   "cell_type": "code",
   "execution_count": 13,
   "metadata": {
    "collapsed": false
   },
   "outputs": [],
   "source": [
    "fwd_button.on_click(motor_fwd)\n",
    "back_button.on_click(motor_back)\n",
    "left_button.on_click(motor_left)\n",
    "right_button.on_click(motor_right)\n",
    "stop_button.on_click(motor_stop)"
   ]
  },
  {
   "cell_type": "markdown",
   "metadata": {
    "collapsed": true
   },
   "source": [
    "Display buttons"
   ]
  },
  {
   "cell_type": "code",
   "execution_count": 14,
   "metadata": {
    "collapsed": false
   },
   "outputs": [],
   "source": [
    "HBox([VBox([dummy, \n",
    "            left_button]), \n",
    "      \n",
    "      VBox([fwd_button, \n",
    "            stop_button, \n",
    "            back_button]), \n",
    "      \n",
    "      VBox([dummy, \n",
    "            right_button])], \n",
    "             background_color='#EEE')"
   ]
  },
  {
   "cell_type": "markdown",
   "metadata": {},
   "source": []
  }
 ],
 "metadata": {
  "kernelspec": {
   "display_name": "Python 3",
   "language": "python",
   "name": "python3"
  },
  "language_info": {
   "codemirror_mode": {
    "name": "ipython",
    "version": 3
   },
   "file_extension": ".py",
   "mimetype": "text/x-python",
   "name": "python",
   "nbconvert_exporter": "python",
   "pygments_lexer": "ipython3",
   "version": "3.4.3+"
  },
  "widgets": {
   "state": {
    "fba154970eb34e4691ffa630720d9727": {
     "views": [
      {
       "cell_index": 13
      }
     ]
    }
   },
   "version": "1.2.0"
  }
 },
 "nbformat": 4,
 "nbformat_minor": 1
}
