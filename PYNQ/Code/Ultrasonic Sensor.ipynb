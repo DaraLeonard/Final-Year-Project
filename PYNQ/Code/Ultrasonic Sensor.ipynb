{
 "cells": [
  {
   "cell_type": "markdown",
   "metadata": {},
   "source": []
  },
  {
   "cell_type": "code",
   "execution_count": 1,
   "metadata": {
    "collapsed": true
   },
   "outputs": [],
   "source": [
    "from pynq import Overlay\n",
    "from pynq.iop import Arduino_IO\n",
    "from pynq.iop import ARDUINO\n",
    "from IPython import display\n",
    "from ipywidgets import widgets\n",
    "import time\n",
    "\n",
    "Overlay(\"base.bit\").download()"
   ]
  },
  {
   "cell_type": "markdown",
   "metadata": {},
   "source": []
  },
  {
   "cell_type": "code",
   "execution_count": 2,
   "metadata": {
    "collapsed": false
   },
   "outputs": [],
   "source": [
    "#Ultrasonic sensor 1\n",
    "TRIG1 = Arduino_IO(ARDUINO, 4, 'out')\n",
    "ECHO1 = Arduino_IO(ARDUINO, 3, 'in')\n",
    "\n",
    "#LED = Arduino_IO(ARDUINO, 5, 'out')"
   ]
  },
  {
   "cell_type": "markdown",
   "metadata": {},
   "source": []
  },
  {
   "cell_type": "code",
   "execution_count": 3,
   "metadata": {
    "collapsed": false,
    "scrolled": true
   },
   "outputs": [],
   "source": [
    "def getDistance():\n",
    "    #global pulse_start, pulse_end, pulse_duration\n",
    "    pulse_start = 0\n",
    "    pulse_end = 0\n",
    "    pulse_duration = 0\n",
    "    distance = 0\n",
    "    \n",
    "    TRIG1.write(0)\n",
    "    time.sleep(1)\n",
    "    \n",
    "    \n",
    "    TRIG1.write(1)\n",
    "    time.sleep(0.00001)\n",
    "    TRIG1.write(0)\n",
    "    \n",
    "    while ECHO1.read() == 0:\n",
    "        pulse_start = time.time()\n",
    "\n",
    "    while ECHO1.read() == 1: \n",
    "        pulse_end = time.time()\n",
    "    \n",
    "    try:\n",
    "        pulse_duration = pulse_end - pulse_start\n",
    "        distance = pulse_duration * 17150\n",
    "\n",
    "        distance = round(distance, 2)    \n",
    "    \n",
    "        return distance\n",
    "        \n",
    "    except UnboundLocalError:\n",
    "        print(\"UnboundLocalError\")#, end = '\\r')\n",
    "        pass\n",
    "    \n",
    "    return -1"
   ]
  },
  {
   "cell_type": "code",
   "execution_count": 4,
   "metadata": {
    "collapsed": false
   },
   "outputs": [
    {
     "name": "stdout",
     "output_type": "stream",
     "text": [
      "Path obstructed, object 6.31  away\n",
      "Path obstructed, object 6.31  away\n",
      "Path obstructed, object 9.51  away\n",
      "Path clear, space ahead: 16.05 cm\n",
      "Path clear, space ahead: 16.47 cm\n",
      "Path clear, space ahead: 19.58 cm\n",
      "Path clear, space ahead: 17.03 cm\n",
      "Sensor Malfunction - Sensor Reading: 47154319.75\n",
      "Path clear, space ahead: 33.36 cm\n",
      "Path clear, space ahead: 19.1 cm\n",
      "Path clear, space ahead: 33.11 cm\n",
      "Path clear, space ahead: 38.24 cm\n",
      "Path clear, space ahead: 19.21 cm\n",
      "Path clear, space ahead: 19.02 cm\n",
      "Path clear, space ahead: 37.28 cm\n",
      "Sensor Malfunction - Sensor Reading: 47436305.18\n",
      "Path clear, space ahead: 35.04 cm\n",
      "Sensor Malfunction - Sensor Reading: 47474055.28\n",
      "Path clear, space ahead: 22.27 cm\n",
      "Sensor Malfunction - Sensor Reading: 47511796.16\n",
      "Path clear, space ahead: 25.48 cm\n",
      "Sensor Malfunction - Sensor Reading: 47547168.17\n",
      "Sensor Malfunction - Sensor Reading: -47619481.44\n",
      "Sensor Malfunction - Sensor Reading: -47636924.87\n",
      "Path clear, space ahead: 22.21 cm\n",
      "Path clear, space ahead: 38.24 cm\n",
      "Path clear, space ahead: 35.23 cm\n",
      "Path clear, space ahead: 28.65 cm\n",
      "Path clear, space ahead: 38.25 cm\n",
      "Path clear, space ahead: 28.6 cm\n",
      "Path clear, space ahead: 35.09 cm\n",
      "Path clear, space ahead: 31.78 cm\n",
      "Path clear, space ahead: 19.16 cm\n",
      "Path clear, space ahead: 15.9 cm\n",
      "Path clear, space ahead: 28.76 cm\n",
      "Sensor Malfunction - Sensor Reading: 47981338.53\n",
      "Sensor Malfunction - Sensor Reading: -47999100.48\n",
      "Sensor Malfunction - Sensor Reading: -48016596.51\n",
      "Path obstructed, object 6.34  away\n",
      "Path obstructed, object 6.32  away\n",
      "Path obstructed, object 6.3  away\n",
      "Path obstructed, object 9.45  away\n"
     ]
    },
    {
     "ename": "KeyboardInterrupt",
     "evalue": "",
     "output_type": "error",
     "traceback": [
      "\u001b[0;31m---------------------------------------------------------------------------\u001b[0m",
      "\u001b[0;31mKeyboardInterrupt\u001b[0m                         Traceback (most recent call last)",
      "\u001b[0;32m<ipython-input-4-cd56323ad380>\u001b[0m in \u001b[0;36m<module>\u001b[0;34m()\u001b[0m\n\u001b[1;32m      1\u001b[0m \u001b[0;32mwhile\u001b[0m\u001b[0;34m(\u001b[0m\u001b[0;32mTrue\u001b[0m\u001b[0;34m)\u001b[0m\u001b[0;34m:\u001b[0m\u001b[0;34m\u001b[0m\u001b[0m\n\u001b[1;32m      2\u001b[0m \u001b[0;34m\u001b[0m\u001b[0m\n\u001b[0;32m----> 3\u001b[0;31m     \u001b[0mdistanceAhead\u001b[0m \u001b[0;34m=\u001b[0m \u001b[0mgetDistance\u001b[0m\u001b[0;34m(\u001b[0m\u001b[0;34m)\u001b[0m\u001b[0;34m\u001b[0m\u001b[0m\n\u001b[0m\u001b[1;32m      4\u001b[0m \u001b[0;34m\u001b[0m\u001b[0m\n\u001b[1;32m      5\u001b[0m     \u001b[0;32mif\u001b[0m \u001b[0mdistanceAhead\u001b[0m \u001b[0;34m<\u001b[0m \u001b[0;36m0\u001b[0m \u001b[0;32mor\u001b[0m \u001b[0mdistanceAhead\u001b[0m \u001b[0;34m>\u001b[0m \u001b[0;36m500\u001b[0m\u001b[0;34m:\u001b[0m\u001b[0;34m\u001b[0m\u001b[0m\n",
      "\u001b[0;32m<ipython-input-3-d948e029efd2>\u001b[0m in \u001b[0;36mgetDistance\u001b[0;34m()\u001b[0m\n\u001b[1;32m     14\u001b[0m     \u001b[0mTRIG1\u001b[0m\u001b[0;34m.\u001b[0m\u001b[0mwrite\u001b[0m\u001b[0;34m(\u001b[0m\u001b[0;36m0\u001b[0m\u001b[0;34m)\u001b[0m\u001b[0;34m\u001b[0m\u001b[0m\n\u001b[1;32m     15\u001b[0m \u001b[0;34m\u001b[0m\u001b[0m\n\u001b[0;32m---> 16\u001b[0;31m     \u001b[0;32mwhile\u001b[0m \u001b[0mECHO1\u001b[0m\u001b[0;34m.\u001b[0m\u001b[0mread\u001b[0m\u001b[0;34m(\u001b[0m\u001b[0;34m)\u001b[0m \u001b[0;34m==\u001b[0m \u001b[0;36m0\u001b[0m\u001b[0;34m:\u001b[0m\u001b[0;34m\u001b[0m\u001b[0m\n\u001b[0m\u001b[1;32m     17\u001b[0m         \u001b[0mpulse_start\u001b[0m \u001b[0;34m=\u001b[0m \u001b[0mtime\u001b[0m\u001b[0;34m.\u001b[0m\u001b[0mtime\u001b[0m\u001b[0;34m(\u001b[0m\u001b[0;34m)\u001b[0m\u001b[0;34m\u001b[0m\u001b[0m\n\u001b[1;32m     18\u001b[0m \u001b[0;34m\u001b[0m\u001b[0m\n",
      "\u001b[0;32m/usr/local/lib/python3.4/dist-packages/pynq/iop/arduino_io.py\u001b[0m in \u001b[0;36mread\u001b[0;34m(self)\u001b[0m\n\u001b[1;32m    205\u001b[0m         \u001b[0;32melif\u001b[0m \u001b[0mself\u001b[0m\u001b[0;34m.\u001b[0m\u001b[0mindex\u001b[0m \u001b[0;32min\u001b[0m \u001b[0mrange\u001b[0m\u001b[0;34m(\u001b[0m\u001b[0;36m2\u001b[0m\u001b[0;34m,\u001b[0m\u001b[0;36m14\u001b[0m\u001b[0;34m)\u001b[0m\u001b[0;34m:\u001b[0m\u001b[0;34m\u001b[0m\u001b[0m\n\u001b[1;32m    206\u001b[0m             raw_value = self.iop.read_cmd(iop_const.ARDUINO_DIO_BASEADDR + \\\n\u001b[0;32m--> 207\u001b[0;31m                                           iop_const.ARDUINO_DIO_DATA_OFFSET)\n\u001b[0m\u001b[1;32m    208\u001b[0m             \u001b[0;32mreturn\u001b[0m \u001b[0;34m(\u001b[0m\u001b[0mraw_value\u001b[0m \u001b[0;34m>>\u001b[0m \u001b[0;34m(\u001b[0m\u001b[0mself\u001b[0m\u001b[0;34m.\u001b[0m\u001b[0mindex\u001b[0m\u001b[0;34m-\u001b[0m\u001b[0;36m2\u001b[0m\u001b[0;34m)\u001b[0m\u001b[0;34m)\u001b[0m \u001b[0;34m&\u001b[0m \u001b[0;36m0x1\u001b[0m\u001b[0;34m\u001b[0m\u001b[0m\n\u001b[1;32m    209\u001b[0m         \u001b[0;32melse\u001b[0m\u001b[0;34m:\u001b[0m\u001b[0;34m\u001b[0m\u001b[0m\n",
      "\u001b[0;32m/usr/local/lib/python3.4/dist-packages/pynq/iop/devmode.py\u001b[0m in \u001b[0;36mread_cmd\u001b[0;34m(self, address, dWidth, dLength, timeout)\u001b[0m\n\u001b[1;32m    226\u001b[0m         \"\"\"\n\u001b[1;32m    227\u001b[0m         return self._send_cmd(iop_const.READ_CMD, address, None, \n\u001b[0;32m--> 228\u001b[0;31m                                 dWidth=dWidth, timeout=timeout)\n\u001b[0m\u001b[1;32m    229\u001b[0m \u001b[0;34m\u001b[0m\u001b[0m\n\u001b[1;32m    230\u001b[0m     \u001b[0;32mdef\u001b[0m \u001b[0mis_cmd_mailbox_idle\u001b[0m\u001b[0;34m(\u001b[0m\u001b[0mself\u001b[0m\u001b[0;34m)\u001b[0m\u001b[0;34m:\u001b[0m\u001b[0;34m\u001b[0m\u001b[0m\n",
      "\u001b[0;32m/usr/local/lib/python3.4/dist-packages/pynq/iop/devmode.py\u001b[0m in \u001b[0;36m_send_cmd\u001b[0;34m(self, cmd, address, data, dWidth, dLength, timeout)\u001b[0m\n\u001b[1;32m    321\u001b[0m         \u001b[0;31m# Wait for ACK in steps of 1ms\u001b[0m\u001b[0;34m\u001b[0m\u001b[0;34m\u001b[0m\u001b[0m\n\u001b[1;32m    322\u001b[0m         \u001b[0mcntdown\u001b[0m \u001b[0;34m=\u001b[0m \u001b[0mtimeout\u001b[0m\u001b[0;34m\u001b[0m\u001b[0m\n\u001b[0;32m--> 323\u001b[0;31m         \u001b[0;32mwhile\u001b[0m \u001b[0;32mnot\u001b[0m \u001b[0mself\u001b[0m\u001b[0;34m.\u001b[0m\u001b[0mis_cmd_mailbox_idle\u001b[0m\u001b[0;34m(\u001b[0m\u001b[0;34m)\u001b[0m \u001b[0;32mand\u001b[0m \u001b[0mcntdown\u001b[0m \u001b[0;34m>\u001b[0m \u001b[0;36m0\u001b[0m\u001b[0;34m:\u001b[0m\u001b[0;34m\u001b[0m\u001b[0m\n\u001b[0m\u001b[1;32m    324\u001b[0m             \u001b[0mtime\u001b[0m\u001b[0;34m.\u001b[0m\u001b[0msleep\u001b[0m\u001b[0;34m(\u001b[0m\u001b[0;36m0.001\u001b[0m\u001b[0;34m)\u001b[0m\u001b[0;34m\u001b[0m\u001b[0m\n\u001b[1;32m    325\u001b[0m             \u001b[0mcntdown\u001b[0m \u001b[0;34m-=\u001b[0m \u001b[0;36m1\u001b[0m\u001b[0;34m\u001b[0m\u001b[0m\n",
      "\u001b[0;32m/usr/local/lib/python3.4/dist-packages/pynq/iop/devmode.py\u001b[0m in \u001b[0;36mis_cmd_mailbox_idle\u001b[0;34m(self)\u001b[0m\n\u001b[1;32m    241\u001b[0m \u001b[0;34m\u001b[0m\u001b[0m\n\u001b[1;32m    242\u001b[0m         \"\"\"\n\u001b[0;32m--> 243\u001b[0;31m         \u001b[0mmb_cmd_word\u001b[0m \u001b[0;34m=\u001b[0m \u001b[0mself\u001b[0m\u001b[0;34m.\u001b[0m\u001b[0mmmio\u001b[0m\u001b[0;34m.\u001b[0m\u001b[0mread\u001b[0m\u001b[0;34m(\u001b[0m\u001b[0miop_const\u001b[0m\u001b[0;34m.\u001b[0m\u001b[0mMAILBOX_PY2IOP_CMD_OFFSET\u001b[0m\u001b[0;34m)\u001b[0m\u001b[0;34m\u001b[0m\u001b[0m\n\u001b[0m\u001b[1;32m    244\u001b[0m         \u001b[0;32mreturn\u001b[0m \u001b[0;34m(\u001b[0m\u001b[0mmb_cmd_word\u001b[0m \u001b[0;34m&\u001b[0m \u001b[0;36m0x1\u001b[0m\u001b[0;34m)\u001b[0m \u001b[0;34m==\u001b[0m \u001b[0;36m0\u001b[0m\u001b[0;34m\u001b[0m\u001b[0m\n\u001b[1;32m    245\u001b[0m \u001b[0;34m\u001b[0m\u001b[0m\n",
      "\u001b[0;32m/usr/local/lib/python3.4/dist-packages/pynq/mmio.py\u001b[0m in \u001b[0;36mread\u001b[0;34m(self, offset, length)\u001b[0m\n\u001b[1;32m    139\u001b[0m \u001b[0;34m\u001b[0m\u001b[0m\n\u001b[1;32m    140\u001b[0m         \u001b[0;31m# Read data out\u001b[0m\u001b[0;34m\u001b[0m\u001b[0;34m\u001b[0m\u001b[0m\n\u001b[0;32m--> 141\u001b[0;31m         \u001b[0;32mreturn\u001b[0m \u001b[0;34m(\u001b[0m\u001b[0mstruct\u001b[0m\u001b[0;34m.\u001b[0m\u001b[0munpack\u001b[0m\u001b[0;34m(\u001b[0m\u001b[0;34m'I'\u001b[0m\u001b[0;34m,\u001b[0m \u001b[0mmem\u001b[0m\u001b[0;34m.\u001b[0m\u001b[0mread\u001b[0m\u001b[0;34m(\u001b[0m\u001b[0mlength\u001b[0m\u001b[0;34m)\u001b[0m\u001b[0;34m)\u001b[0m\u001b[0;34m[\u001b[0m\u001b[0;36m0\u001b[0m\u001b[0;34m]\u001b[0m\u001b[0;34m)\u001b[0m\u001b[0;34m\u001b[0m\u001b[0m\n\u001b[0m\u001b[1;32m    142\u001b[0m \u001b[0;34m\u001b[0m\u001b[0m\n\u001b[1;32m    143\u001b[0m     \u001b[0;32mdef\u001b[0m \u001b[0mwrite\u001b[0m\u001b[0;34m(\u001b[0m\u001b[0mself\u001b[0m\u001b[0;34m,\u001b[0m \u001b[0moffset\u001b[0m\u001b[0;34m,\u001b[0m \u001b[0mdata\u001b[0m\u001b[0;34m)\u001b[0m\u001b[0;34m:\u001b[0m\u001b[0;34m\u001b[0m\u001b[0m\n",
      "\u001b[0;31mKeyboardInterrupt\u001b[0m: "
     ]
    }
   ],
   "source": [
    "while(True):\n",
    "    \n",
    "    distanceAhead = getDistance()\n",
    "\n",
    "    if distanceAhead < 0 or distanceAhead > 500:\n",
    "        print(\"Sensor Malfunction - Sensor Reading:\", distanceAhead, \"cm\")#, end = '\\r')\n",
    "    elif distanceAhead < 10:\n",
    "        print(\"Path obstructed, object\", distanceAhead, \"cm away\")#, end = '\\r')\n",
    "    else:\n",
    "        #LED.write(1)\n",
    "        print(\"Path clear, space ahead:\", distanceAhead, \"cm\")#, end = '\\r')"
   ]
  }
 ],
 "metadata": {
  "kernelspec": {
   "display_name": "Python 3",
   "language": "python",
   "name": "python3"
  },
  "language_info": {
   "codemirror_mode": {
    "name": "ipython",
    "version": 3
   },
   "file_extension": ".py",
   "mimetype": "text/x-python",
   "name": "python",
   "nbconvert_exporter": "python",
   "pygments_lexer": "ipython3",
   "version": "3.4.3+"
  }
 },
 "nbformat": 4,
 "nbformat_minor": 1
}
